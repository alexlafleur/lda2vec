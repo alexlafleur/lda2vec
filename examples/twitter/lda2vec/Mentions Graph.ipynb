{
 "cells": [
  {
   "cell_type": "code",
   "execution_count": 1,
   "metadata": {
    "collapsed": true
   },
   "outputs": [],
   "source": [
    "import numpy as np\n",
    "import pandas as pd\n",
    "import Set"
   ]
  },
  {
   "cell_type": "code",
   "execution_count": 25,
   "metadata": {},
   "outputs": [],
   "source": [
    "data=pd.read_csv(\"tweets_shuffled_no_links.csv\", delimiter=\"\\t\", names=[\"UserID\",\"TweetID\",\"Tweet\",\"CreatedAt\",\"TweetNoLinks\"], header=0, dtype=str)"
   ]
  },
  {
   "cell_type": "code",
   "execution_count": 3,
   "metadata": {
    "collapsed": true
   },
   "outputs": [],
   "source": [
    "def extract_mentions(tweet):\n",
    "    import re\n",
    "    mentions = re.findall(r\"@(\\w+)\", tweet)\n",
    "    return mentions"
   ]
  },
  {
   "cell_type": "code",
   "execution_count": 29,
   "metadata": {
    "collapsed": true
   },
   "outputs": [],
   "source": [
    "def insertInGraph(graph, source, dests):\n",
    "    if source in graph:\n",
    "        source_mentions_list = graph[source]\n",
    "        for dest in dests:\n",
    "            source_mentions_list.add(dest)\n",
    "        graph[source] = source_mentions_list\n",
    "    else:\n",
    "        graph[source] = set(dests)\n",
    "    return graph"
   ]
  },
  {
   "cell_type": "code",
   "execution_count": 26,
   "metadata": {},
   "outputs": [
    {
     "data": {
      "text/html": [
       "<div>\n",
       "<style>\n",
       "    .dataframe thead tr:only-child th {\n",
       "        text-align: right;\n",
       "    }\n",
       "\n",
       "    .dataframe thead th {\n",
       "        text-align: left;\n",
       "    }\n",
       "\n",
       "    .dataframe tbody tr th {\n",
       "        vertical-align: top;\n",
       "    }\n",
       "</style>\n",
       "<table border=\"1\" class=\"dataframe\">\n",
       "  <thead>\n",
       "    <tr style=\"text-align: right;\">\n",
       "      <th></th>\n",
       "      <th>UserID</th>\n",
       "      <th>TweetNoLinks</th>\n",
       "    </tr>\n",
       "  </thead>\n",
       "  <tbody>\n",
       "    <tr>\n",
       "      <th>0</th>\n",
       "      <td>19961111</td>\n",
       "      <td>People don't care what you say about your prod...</td>\n",
       "    </tr>\n",
       "    <tr>\n",
       "      <th>1</th>\n",
       "      <td>15825900</td>\n",
       "      <td>@Stephi5575 allessss guttteee du geile sauuuu</td>\n",
       "    </tr>\n",
       "    <tr>\n",
       "      <th>2</th>\n",
       "      <td>49247429</td>\n",
       "      <td>@powerage9 ahh i want to go sooo badly.. but i...</td>\n",
       "    </tr>\n",
       "    <tr>\n",
       "      <th>3</th>\n",
       "      <td>54316167</td>\n",
       "      <td>1/2 pour Ronny : 9-12 #Eurobasket</td>\n",
       "    </tr>\n",
       "    <tr>\n",
       "      <th>4</th>\n",
       "      <td>54073394</td>\n",
       "      <td>@ChunkyMunkee lmfao!!</td>\n",
       "    </tr>\n",
       "    <tr>\n",
       "      <th>5</th>\n",
       "      <td>76676912</td>\n",
       "      <td>鼻水が止まらない。</td>\n",
       "    </tr>\n",
       "    <tr>\n",
       "      <th>6</th>\n",
       "      <td>64991428</td>\n",
       "      <td>@kaijin360 なんだそれは</td>\n",
       "    </tr>\n",
       "    <tr>\n",
       "      <th>7</th>\n",
       "      <td>17165447</td>\n",
       "      <td>@Careerization Thanks for the retweet! I appre...</td>\n",
       "    </tr>\n",
       "    <tr>\n",
       "      <th>8</th>\n",
       "      <td>123738532</td>\n",
       "      <td>@MemiPwnsAll what even is liam &amp; nick going to...</td>\n",
       "    </tr>\n",
       "    <tr>\n",
       "      <th>9</th>\n",
       "      <td>50747838</td>\n",
       "      <td>Football hall price tag jumps as state mulls p...</td>\n",
       "    </tr>\n",
       "    <tr>\n",
       "      <th>10</th>\n",
       "      <td>813512</td>\n",
       "      <td>@labguest click search box for trends.</td>\n",
       "    </tr>\n",
       "    <tr>\n",
       "      <th>11</th>\n",
       "      <td>17520033</td>\n",
       "      <td>White-Hat Video SEO = Good Old-Fashioned Hard ...</td>\n",
       "    </tr>\n",
       "    <tr>\n",
       "      <th>12</th>\n",
       "      <td>59738111</td>\n",
       "      <td>歯磨き粉はコンビニにも一本だけでは売ってない。かならず歯ブラシと一対になって売っているという...</td>\n",
       "    </tr>\n",
       "    <tr>\n",
       "      <th>13</th>\n",
       "      <td>54111123</td>\n",
       "      <td>@taketake0 こんちくむ～ちょ～ですよ～</td>\n",
       "    </tr>\n",
       "    <tr>\n",
       "      <th>14</th>\n",
       "      <td>39060163</td>\n",
       "      <td>I am downtown lol :)</td>\n",
       "    </tr>\n",
       "    <tr>\n",
       "      <th>15</th>\n",
       "      <td>124126231</td>\n",
       "      <td>@smallcry ha ha good 1.</td>\n",
       "    </tr>\n",
       "    <tr>\n",
       "      <th>16</th>\n",
       "      <td>68630277</td>\n",
       "      <td>World Cup 2010: Marcello Lippi Will Pick Me Fo...</td>\n",
       "    </tr>\n",
       "    <tr>\n",
       "      <th>17</th>\n",
       "      <td>100983174</td>\n",
       "      <td>! Exactly how do I boil eggs for making devile...</td>\n",
       "    </tr>\n",
       "    <tr>\n",
       "      <th>18</th>\n",
       "      <td>72976371</td>\n",
       "      <td>@federicodevito bye bye amr :*</td>\n",
       "    </tr>\n",
       "    <tr>\n",
       "      <th>19</th>\n",
       "      <td>29001014</td>\n",
       "      <td>RT @libertyideals: What stops mass murderers? ...</td>\n",
       "    </tr>\n",
       "    <tr>\n",
       "      <th>20</th>\n",
       "      <td>69602539</td>\n",
       "      <td>@zkropotkine where are the diffs?</td>\n",
       "    </tr>\n",
       "    <tr>\n",
       "      <th>21</th>\n",
       "      <td>61439335</td>\n",
       "      <td>@IMwiz Thanks for the mention IMwiz</td>\n",
       "    </tr>\n",
       "    <tr>\n",
       "      <th>22</th>\n",
       "      <td>5864942</td>\n",
       "      <td>おやつ またポテチに頼ってしまった。 #bkfow - Photo:</td>\n",
       "    </tr>\n",
       "    <tr>\n",
       "      <th>23</th>\n",
       "      <td>31378115</td>\n",
       "      <td>Chasing money? Let us do the work!</td>\n",
       "    </tr>\n",
       "    <tr>\n",
       "      <th>24</th>\n",
       "      <td>16937014</td>\n",
       "      <td>APOIADO! - RT @senhorchico: cara se tem algo q...</td>\n",
       "    </tr>\n",
       "    <tr>\n",
       "      <th>25</th>\n",
       "      <td>14472839</td>\n",
       "      <td>Aloha kitchen right now, then NSC, homework, g...</td>\n",
       "    </tr>\n",
       "    <tr>\n",
       "      <th>26</th>\n",
       "      <td>23743985</td>\n",
       "      <td>NEW: Retweet</td>\n",
       "    </tr>\n",
       "    <tr>\n",
       "      <th>27</th>\n",
       "      <td>9804712</td>\n",
       "      <td>eu nao ... RT @hlegius: @toscano você irá na #...</td>\n",
       "    </tr>\n",
       "    <tr>\n",
       "      <th>28</th>\n",
       "      <td>80627136</td>\n",
       "      <td>KuwaitGirls</td>\n",
       "    </tr>\n",
       "    <tr>\n",
       "      <th>29</th>\n",
       "      <td>21801982</td>\n",
       "      <td>RT @RonHogan: Seth Godin- Publicists, get out ...</td>\n",
       "    </tr>\n",
       "    <tr>\n",
       "      <th>...</th>\n",
       "      <td>...</td>\n",
       "      <td>...</td>\n",
       "    </tr>\n",
       "    <tr>\n",
       "      <th>5580048</th>\n",
       "      <td>59015952</td>\n",
       "      <td>be careful of the sites that you visit if you'...</td>\n",
       "    </tr>\n",
       "    <tr>\n",
       "      <th>5580049</th>\n",
       "      <td>23507474</td>\n",
       "      <td>Boys Hockey: \"Team Capsules.\" - iTeams | High ...</td>\n",
       "    </tr>\n",
       "    <tr>\n",
       "      <th>5580050</th>\n",
       "      <td>31617790</td>\n",
       "      <td>Eu to com muita fome, mas nao têm nada pra com...</td>\n",
       "    </tr>\n",
       "    <tr>\n",
       "      <th>5580051</th>\n",
       "      <td>16540602</td>\n",
       "      <td>@lauraallenmusic why are you trying to twist m...</td>\n",
       "    </tr>\n",
       "    <tr>\n",
       "      <th>5580052</th>\n",
       "      <td>102492051</td>\n",
       "      <td>Als echtparen echt paren dan hebben echtgenote...</td>\n",
       "    </tr>\n",
       "    <tr>\n",
       "      <th>5580053</th>\n",
       "      <td>102792805</td>\n",
       "      <td>23:00 UK time bwin pokers $500 freeroll tourna...</td>\n",
       "    </tr>\n",
       "    <tr>\n",
       "      <th>5580054</th>\n",
       "      <td>58089956</td>\n",
       "      <td>As online marketers sometimes we forget that t...</td>\n",
       "    </tr>\n",
       "    <tr>\n",
       "      <th>5580055</th>\n",
       "      <td>75600543</td>\n",
       "      <td>Satyricon - Delirium</td>\n",
       "    </tr>\n",
       "    <tr>\n",
       "      <th>5580056</th>\n",
       "      <td>99076762</td>\n",
       "      <td>You Will Love This Software  It Rocks</td>\n",
       "    </tr>\n",
       "    <tr>\n",
       "      <th>5580057</th>\n",
       "      <td>45087313</td>\n",
       "      <td>NaN</td>\n",
       "    </tr>\n",
       "    <tr>\n",
       "      <th>5580058</th>\n",
       "      <td>24303874</td>\n",
       "      <td>@JulioQFLV Eu só bebo latinha.</td>\n",
       "    </tr>\n",
       "    <tr>\n",
       "      <th>5580059</th>\n",
       "      <td>5869912</td>\n",
       "      <td>@watanabe_yosei こんなに身近にwwww</td>\n",
       "    </tr>\n",
       "    <tr>\n",
       "      <th>5580060</th>\n",
       "      <td>16376251</td>\n",
       "      <td>damn you sore throat</td>\n",
       "    </tr>\n",
       "    <tr>\n",
       "      <th>5580061</th>\n",
       "      <td>57967908</td>\n",
       "      <td>videogames4sale: Salez &amp; Request: Dragonball Z...</td>\n",
       "    </tr>\n",
       "    <tr>\n",
       "      <th>5580062</th>\n",
       "      <td>71488526</td>\n",
       "      <td>Gleich TEAM AMERICA guck´n :D  MAAAAATT DAAAAA...</td>\n",
       "    </tr>\n",
       "    <tr>\n",
       "      <th>5580063</th>\n",
       "      <td>17143323</td>\n",
       "      <td>Amazon acquires touch screen startup; Souped ...</td>\n",
       "    </tr>\n",
       "    <tr>\n",
       "      <th>5580064</th>\n",
       "      <td>27449820</td>\n",
       "      <td>the time has come for colds and overcoats.</td>\n",
       "    </tr>\n",
       "    <tr>\n",
       "      <th>5580065</th>\n",
       "      <td>101648957</td>\n",
       "      <td>Amazon.com Hot New Releases: The bestselling n...</td>\n",
       "    </tr>\n",
       "    <tr>\n",
       "      <th>5580066</th>\n",
       "      <td>54839021</td>\n",
       "      <td>EMSA E502224 IS $9.75 AT  #FB</td>\n",
       "    </tr>\n",
       "    <tr>\n",
       "      <th>5580067</th>\n",
       "      <td>84567936</td>\n",
       "      <td>Locating The Ideal System To Make Money Online...</td>\n",
       "    </tr>\n",
       "    <tr>\n",
       "      <th>5580068</th>\n",
       "      <td>110633284</td>\n",
       "      <td>Here's A NewsFlash</td>\n",
       "    </tr>\n",
       "    <tr>\n",
       "      <th>5580069</th>\n",
       "      <td>65036512</td>\n",
       "      <td>The Latest News About New Year  From Howiesapr...</td>\n",
       "    </tr>\n",
       "    <tr>\n",
       "      <th>5580070</th>\n",
       "      <td>49739860</td>\n",
       "      <td>chale tan chamaca y tan loca con los artistas ...</td>\n",
       "    </tr>\n",
       "    <tr>\n",
       "      <th>5580071</th>\n",
       "      <td>58351029</td>\n",
       "      <td>Sin luz :p</td>\n",
       "    </tr>\n",
       "    <tr>\n",
       "      <th>5580072</th>\n",
       "      <td>77030327</td>\n",
       "      <td>@sbopoet Yo mama so fat when you get on top of...</td>\n",
       "    </tr>\n",
       "    <tr>\n",
       "      <th>5580073</th>\n",
       "      <td>21504365</td>\n",
       "      <td>dar eu stiu sa inot, ha!</td>\n",
       "    </tr>\n",
       "    <tr>\n",
       "      <th>5580074</th>\n",
       "      <td>141491251</td>\n",
       "      <td>Men'S Sexual Health And Nutrition</td>\n",
       "    </tr>\n",
       "    <tr>\n",
       "      <th>5580075</th>\n",
       "      <td>20859428</td>\n",
       "      <td>@dubbayoo - grumbles at O2, who are still bein...</td>\n",
       "    </tr>\n",
       "    <tr>\n",
       "      <th>5580076</th>\n",
       "      <td>35660349</td>\n",
       "      <td>iyaaaaa hehe @madahs</td>\n",
       "    </tr>\n",
       "    <tr>\n",
       "      <th>5580077</th>\n",
       "      <td>2394771</td>\n",
       "      <td>RT @psplaylife Te rifas con las Movies @Batche...</td>\n",
       "    </tr>\n",
       "  </tbody>\n",
       "</table>\n",
       "<p>5580078 rows × 2 columns</p>\n",
       "</div>"
      ],
      "text/plain": [
       "            UserID                                       TweetNoLinks\n",
       "0         19961111  People don't care what you say about your prod...\n",
       "1         15825900      @Stephi5575 allessss guttteee du geile sauuuu\n",
       "2         49247429  @powerage9 ahh i want to go sooo badly.. but i...\n",
       "3         54316167                  1/2 pour Ronny : 9-12 #Eurobasket\n",
       "4         54073394                              @ChunkyMunkee lmfao!!\n",
       "5         76676912                                          鼻水が止まらない。\n",
       "6         64991428                                  @kaijin360 なんだそれは\n",
       "7         17165447  @Careerization Thanks for the retweet! I appre...\n",
       "8        123738532  @MemiPwnsAll what even is liam & nick going to...\n",
       "9         50747838  Football hall price tag jumps as state mulls p...\n",
       "10          813512             @labguest click search box for trends.\n",
       "11        17520033  White-Hat Video SEO = Good Old-Fashioned Hard ...\n",
       "12        59738111  歯磨き粉はコンビニにも一本だけでは売ってない。かならず歯ブラシと一対になって売っているという...\n",
       "13        54111123                           @taketake0 こんちくむ～ちょ～ですよ～\n",
       "14        39060163                              I am downtown lol :) \n",
       "15       124126231                            @smallcry ha ha good 1.\n",
       "16        68630277  World Cup 2010: Marcello Lippi Will Pick Me Fo...\n",
       "17       100983174  ! Exactly how do I boil eggs for making devile...\n",
       "18        72976371                     @federicodevito bye bye amr :*\n",
       "19        29001014  RT @libertyideals: What stops mass murderers? ...\n",
       "20        69602539                  @zkropotkine where are the diffs?\n",
       "21        61439335                @IMwiz Thanks for the mention IMwiz\n",
       "22         5864942                おやつ またポテチに頼ってしまった。 #bkfow - Photo: \n",
       "23        31378115                Chasing money? Let us do the work! \n",
       "24        16937014  APOIADO! - RT @senhorchico: cara se tem algo q...\n",
       "25        14472839  Aloha kitchen right now, then NSC, homework, g...\n",
       "26        23743985                                      NEW: Retweet \n",
       "27         9804712  eu nao ... RT @hlegius: @toscano você irá na #...\n",
       "28        80627136                                        KuwaitGirls\n",
       "29        21801982  RT @RonHogan: Seth Godin- Publicists, get out ...\n",
       "...            ...                                                ...\n",
       "5580048   59015952  be careful of the sites that you visit if you'...\n",
       "5580049   23507474  Boys Hockey: \"Team Capsules.\" - iTeams | High ...\n",
       "5580050   31617790  Eu to com muita fome, mas nao têm nada pra com...\n",
       "5580051   16540602  @lauraallenmusic why are you trying to twist m...\n",
       "5580052  102492051  Als echtparen echt paren dan hebben echtgenote...\n",
       "5580053  102792805  23:00 UK time bwin pokers $500 freeroll tourna...\n",
       "5580054   58089956  As online marketers sometimes we forget that t...\n",
       "5580055   75600543                               Satyricon - Delirium\n",
       "5580056   99076762              You Will Love This Software  It Rocks\n",
       "5580057   45087313                                                NaN\n",
       "5580058   24303874                     @JulioQFLV Eu só bebo latinha.\n",
       "5580059    5869912                        @watanabe_yosei こんなに身近にwwww\n",
       "5580060   16376251                               damn you sore throat\n",
       "5580061   57967908  videogames4sale: Salez & Request: Dragonball Z...\n",
       "5580062   71488526  Gleich TEAM AMERICA guck´n :D  MAAAAATT DAAAAA...\n",
       "5580063   17143323   Amazon acquires touch screen startup; Souped ...\n",
       "5580064   27449820         the time has come for colds and overcoats.\n",
       "5580065  101648957  Amazon.com Hot New Releases: The bestselling n...\n",
       "5580066   54839021                     EMSA E502224 IS $9.75 AT  #FB \n",
       "5580067   84567936  Locating The Ideal System To Make Money Online...\n",
       "5580068  110633284                                Here's A NewsFlash \n",
       "5580069   65036512  The Latest News About New Year  From Howiesapr...\n",
       "5580070   49739860  chale tan chamaca y tan loca con los artistas ...\n",
       "5580071   58351029                                         Sin luz :p\n",
       "5580072   77030327  @sbopoet Yo mama so fat when you get on top of...\n",
       "5580073   21504365                           dar eu stiu sa inot, ha!\n",
       "5580074  141491251                 Men'S Sexual Health And Nutrition \n",
       "5580075   20859428  @dubbayoo - grumbles at O2, who are still bein...\n",
       "5580076   35660349                               iyaaaaa hehe @madahs\n",
       "5580077    2394771  RT @psplaylife Te rifas con las Movies @Batche...\n",
       "\n",
       "[5580078 rows x 2 columns]"
      ]
     },
     "execution_count": 26,
     "metadata": {},
     "output_type": "execute_result"
    }
   ],
   "source": [
    "tweets = data[[\"UserID\",\"TweetNoLinks\"]]\n",
    "tweets"
   ]
  },
  {
   "cell_type": "code",
   "execution_count": 45,
   "metadata": {},
   "outputs": [],
   "source": [
    "mentionsGraph = {}\n",
    "for index, row in tweets.iterrows():\n",
    "    tweet = row[\"TweetNoLinks\"]\n",
    "    userid = row[\"UserID\"]\n",
    "    if not pd.isnull(tweet):\n",
    "        mentions = extract_mentions(tweet)\n",
    "        mentionsGraph = insertInGraph(mentionsGraph, userid, mentions)"
   ]
  },
  {
   "cell_type": "code",
   "execution_count": 46,
   "metadata": {},
   "outputs": [
    {
     "name": "stdout",
     "output_type": "stream",
     "text": [
      "('Count people mentioning others', 39838)\n",
      "('Average number of mentions per user', 22.004317485817563)\n",
      "('Min', 0)\n",
      "('Max', 1325)\n",
      "('Std', 39.254798882912766)\n"
     ]
    }
   ],
   "source": [
    "print(\"Count people mentioning others\", len(mentionsGraph))\n",
    "mentioned_people_per_user = mentionsGraph.values()\n",
    "count_mentions = []\n",
    "for ppl in mentioned_people_per_user:\n",
    "    count_mentions.append(len(ppl))\n",
    "avg_number_mentions = np.average(count_mentions)\n",
    "print(\"Average number of mentions per user\", avg_number_mentions)\n",
    "print(\"Min\",np.min(count_mentions))\n",
    "print(\"Max\", np.max(count_mentions))\n",
    "print(\"Std\",np.std(count_mentions))"
   ]
  },
  {
   "cell_type": "code",
   "execution_count": 47,
   "metadata": {},
   "outputs": [
    {
     "data": {
      "image/png": "[encoded data removed]",
      "text/plain": [
       "<matplotlib.figure.Figure at 0x7f0713ea8490>"
      ]
     },
     "metadata": {},
     "output_type": "display_data"
    }
   ],
   "source": [
    "import matplotlib.pyplot as plt\n",
    "plt.scatter(range(len(count_mentions)), count_mentions)\n",
    "plt.show()"
   ]
  },
  {
   "cell_type": "code",
   "execution_count": 48,
   "metadata": {
    "collapsed": true
   },
   "outputs": [],
   "source": [
    "import pickle\n",
    "with open(\"mentions_tweets_dict.pkl\",\"wb\") as f:\n",
    "    pickle.dump(mentionsGraph, f, pickle.HIGHEST_PROTOCOL)"
   ]
  },
  {
   "cell_type": "code",
   "execution_count": 52,
   "metadata": {},
   "outputs": [],
   "source": [
    "import json\n",
    "json_data = {}\n",
    "links = []"
   ]
  },
  {
   "cell_type": "code",
   "execution_count": 67,
   "metadata": {},
   "outputs": [],
   "source": [
    "nodes = set(mentionsGraph.keys())"
   ]
  },
  {
   "cell_type": "code",
   "execution_count": 167,
   "metadata": {
    "scrolled": false
   },
   "outputs": [],
   "source": [
    "# gather all links\n",
    "json_links_list = []\n",
    "json_nodes_list = []\n",
    "pos = 0\n",
    "userid=1\n",
    "nodes = []\n",
    "for key, value in mentionsGraph.iteritems():\n",
    "    if len(value) == 50:\n",
    "        json_nodes_list.append({\"name\":str(key)})\n",
    "        key_pos=pos\n",
    "        pos += 1\n",
    "        for item in value:\n",
    "            nodes.append(item)\n",
    "            json_nodes_list.append({\"name\":str(item)})\n",
    "            json_links_list.append({\"source\":key_pos, \"target\":pos})\n",
    "            pos += 1\n",
    "        userid +=1\n",
    "        if userid > 1000:\n",
    "            break"
   ]
  },
  {
   "cell_type": "code",
   "execution_count": 163,
   "metadata": {},
   "outputs": [],
   "source": [
    "data = {\"nodes\": json_nodes_list, \"links\": json_links_list}"
   ]
  },
  {
   "cell_type": "code",
   "execution_count": 164,
   "metadata": {},
   "outputs": [],
   "source": [
    "import os\n",
    "path = '/home/alexandra/Desktop/graphFile-mentions-minimal.txt'\n",
    "os.remove(path)\n",
    "with open(path, 'w') as outfile:\n",
    "    json.dump(data, outfile)"
   ]
  },
  {
   "cell_type": "code",
   "execution_count": 84,
   "metadata": {},
   "outputs": [
    {
     "name": "stderr",
     "output_type": "stream",
     "text": [
      "IOPub data rate exceeded.\n",
      "The notebook server will temporarily stop sending output\n",
      "to the client in order to avoid crashing it.\n",
      "To change this limit, set the config variable\n",
      "`--NotebookApp.iopub_data_rate_limit`.\n"
     ]
    }
   ],
   "source": [
    "jsondata"
   ]
  },
  {
   "cell_type": "code",
   "execution_count": 166,
   "metadata": {},
   "outputs": [
    {
     "data": {
      "text/plain": [
       "[{'name': '60175536'},\n",
       " {'name': 'lalaiueo'},\n",
       " {'name': 'daisyamanda'},\n",
       " {'name': 'lintanggg'},\n",
       " {'name': 'laulithamayang'}]"
      ]
     },
     "execution_count": 166,
     "metadata": {},
     "output_type": "execute_result"
    }
   ],
   "source": [
    "json_nodes_list[:5]"
   ]
  },
  {
   "cell_type": "code",
   "execution_count": 112,
   "metadata": {},
   "outputs": [
    {
     "data": {
      "text/plain": [
       "0"
      ]
     },
     "execution_count": 112,
     "metadata": {},
     "output_type": "execute_result"
    }
   ],
   "source": [
    "len(json_links_list)"
   ]
  },
  {
   "cell_type": "code",
   "execution_count": 171,
   "metadata": {},
   "outputs": [],
   "source": [
    "with open (\"mentioned_user_names.txt\",\"wb\") as f:\n",
    "    pickle.dump(nodes, f, pickle.HIGHEST_PROTOCOL)"
   ]
  },
  {
   "cell_type": "code",
   "execution_count": 173,
   "metadata": {},
   "outputs": [
    {
     "data": {
      "text/plain": [
       "'lalaiueo'"
      ]
     },
     "execution_count": 173,
     "metadata": {},
     "output_type": "execute_result"
    }
   ],
   "source": [
    "nodes[0]"
   ]
  },
  {
   "cell_type": "code",
   "execution_count": null,
   "metadata": {
    "collapsed": true
   },
   "outputs": [],
   "source": [
    ""
   ]
  }
 ],
 "metadata": {
  "kernelspec": {
   "display_name": "venv_lda2vec",
   "language": "python",
   "name": "venv_lda2vec"
  },
  "language_info": {
   "codemirror_mode": {
    "name": "ipython",
    "version": 2.0
   },
   "file_extension": ".py",
   "mimetype": "text/x-python",
   "name": "python",
   "nbconvert_exporter": "python",
   "pygments_lexer": "ipython2",
   "version": "2.7.12"
  }
 },
 "nbformat": 4,
 "nbformat_minor": 0
}