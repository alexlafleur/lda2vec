{
 "cells": [
  {
   "cell_type": "code",
   "execution_count": 95,
   "metadata": {
    "collapsed": true
   },
   "outputs": [],
   "source": [
    "import pandas as pd\n",
    "import numpy as np"
   ]
  },
  {
   "cell_type": "code",
   "execution_count": 128,
   "metadata": {},
   "outputs": [],
   "source": [
    "data=pd.read_csv(\"../data/content_polluters_tweets_no_links.txt\", delimiter=\"\\t\", header=None, dtype=str)\n",
    "data2=pd.read_csv(\"../data/legitimate_users_tweets_no_links.txt\", delimiter=\"\\t\", header=None, dtype=str)\n",
    "\n",
    "tweets = pd.concat([data,data2])\n",
    "tweets = tweets.sample(frac=1).reset_index(drop=True)\n",
    "tweets.to_csv(\"tweets_shuffled_no_links.csv\",sep=\"\\t\",header=[\"userid\",\"tweetid\",\"tweet\",\"created_at\",\"tweet_no_links\"], index=False)"
   ]
  },
  {
   "cell_type": "code",
   "execution_count": 98,
   "metadata": {},
   "outputs": [
    {
     "data": {
      "text/html": [
       "<div>\n",
       "<style>\n",
       "    .dataframe thead tr:only-child th {\n",
       "        text-align: right;\n",
       "    }\n",
       "\n",
       "    .dataframe thead th {\n",
       "        text-align: left;\n",
       "    }\n",
       "\n",
       "    .dataframe tbody tr th {\n",
       "        vertical-align: top;\n",
       "    }\n",
       "</style>\n",
       "<table border=\"1\" class=\"dataframe\">\n",
       "  <thead>\n",
       "    <tr style=\"text-align: right;\">\n",
       "      <th></th>\n",
       "      <th>0</th>\n",
       "      <th>1</th>\n",
       "      <th>2</th>\n",
       "      <th>3</th>\n",
       "      <th>4</th>\n",
       "    </tr>\n",
       "  </thead>\n",
       "  <tbody>\n",
       "    <tr>\n",
       "      <th>0</th>\n",
       "      <td>145052735</td>\n",
       "      <td>15802479121</td>\n",
       "      <td>@allisajacobs apparently not all dark chocolat...</td>\n",
       "      <td>2010-06-09 16:07:45</td>\n",
       "      <td>@allisajacobs apparently not all dark chocolat...</td>\n",
       "    </tr>\n",
       "    <tr>\n",
       "      <th>1</th>\n",
       "      <td>105579434</td>\n",
       "      <td>8125189479</td>\n",
       "      <td>More (Steve) Jobs, Jobs, Jobs, Jobs: ... but l...</td>\n",
       "      <td>2010-01-23 15:55:17</td>\n",
       "      <td>More (Steve) Jobs, Jobs, Jobs, Jobs: ... but l...</td>\n",
       "    </tr>\n",
       "    <tr>\n",
       "      <th>2</th>\n",
       "      <td>21044418</td>\n",
       "      <td>1331133902</td>\n",
       "      <td>Ajab nahare topi zadim, nafari 2ta qezel ba mo...</td>\n",
       "      <td>2009-03-15 07:18:41</td>\n",
       "      <td>Ajab nahare topi zadim, nafari 2ta qezel ba mo...</td>\n",
       "    </tr>\n",
       "    <tr>\n",
       "      <th>3</th>\n",
       "      <td>23745304</td>\n",
       "      <td>5873730898</td>\n",
       "      <td>Palin Confuses Iraq &amp; Iran In Hannity Intervie...</td>\n",
       "      <td>2009-11-19 18:12:39</td>\n",
       "      <td>Palin Confuses Iraq &amp; Iran In Hannity Intervie...</td>\n",
       "    </tr>\n",
       "    <tr>\n",
       "      <th>4</th>\n",
       "      <td>20135933</td>\n",
       "      <td>5717111863</td>\n",
       "      <td>again, thank you for the sanity! RT @sineaddee...</td>\n",
       "      <td>2009-11-14 14:09:58</td>\n",
       "      <td>again, thank you for the sanity! RT @sineaddee...</td>\n",
       "    </tr>\n",
       "  </tbody>\n",
       "</table>\n",
       "</div>"
      ],
      "text/plain": [
       "           0            1                                                  2  \\\n",
       "0  145052735  15802479121  @allisajacobs apparently not all dark chocolat...   \n",
       "1  105579434   8125189479  More (Steve) Jobs, Jobs, Jobs, Jobs: ... but l...   \n",
       "2   21044418   1331133902  Ajab nahare topi zadim, nafari 2ta qezel ba mo...   \n",
       "3   23745304   5873730898  Palin Confuses Iraq & Iran In Hannity Intervie...   \n",
       "4   20135933   5717111863  again, thank you for the sanity! RT @sineaddee...   \n",
       "\n",
       "                     3                                                  4  \n",
       "0  2010-06-09 16:07:45  @allisajacobs apparently not all dark chocolat...  \n",
       "1  2010-01-23 15:55:17  More (Steve) Jobs, Jobs, Jobs, Jobs: ... but l...  \n",
       "2  2009-03-15 07:18:41  Ajab nahare topi zadim, nafari 2ta qezel ba mo...  \n",
       "3  2009-11-19 18:12:39  Palin Confuses Iraq & Iran In Hannity Intervie...  \n",
       "4  2009-11-14 14:09:58  again, thank you for the sanity! RT @sineaddee...  "
      ]
     },
     "execution_count": 98,
     "metadata": {},
     "output_type": "execute_result"
    }
   ],
   "source": [
    "tweets.head()"
   ]
  },
  {
   "cell_type": "code",
   "execution_count": 48,
   "metadata": {},
   "outputs": [],
   "source": [
    "groupedbyuser_tweets=tweets.groupby([\"user_id\"])"
   ]
  },
  {
   "cell_type": "code",
   "execution_count": 49,
   "metadata": {},
   "outputs": [
    {
     "data": {
      "text/plain": [
       "<pandas.core.groupby.DataFrameGroupBy object at 0x7fb6d47a6a10>"
      ]
     },
     "execution_count": 49,
     "metadata": {},
     "output_type": "execute_result"
    }
   ],
   "source": [
    "groupedbyuser_tweets"
   ]
  },
  {
   "cell_type": "code",
   "execution_count": 103,
   "metadata": {},
   "outputs": [
    {
     "ename": "IndexError",
     "evalue": "list index out of range",
     "output_type": "error",
     "traceback": [
      "\u001b[0;31m---------------------------------------------------------------------------\u001b[0m",
      "\u001b[0;31mIndexError\u001b[0m                                Traceback (most recent call last)",
      "\u001b[0;32m<ipython-input-103-d02bdc4fc3d9>\u001b[0m in \u001b[0;36m<module>\u001b[0;34m()\u001b[0m\n\u001b[1;32m      1\u001b[0m \u001b[0mpolluter_tweets\u001b[0m \u001b[0;34m=\u001b[0m \u001b[0;34m\"../lda2vec/tweets_shuffled_no_links.csv\"\u001b[0m\u001b[0;34m\u001b[0m\u001b[0m\n\u001b[0;32m----> 2\u001b[0;31m \u001b[0mtweets\u001b[0m \u001b[0;34m=\u001b[0m \u001b[0mnp\u001b[0m\u001b[0;34m.\u001b[0m\u001b[0mloadtxt\u001b[0m\u001b[0;34m(\u001b[0m\u001b[0mfname\u001b[0m\u001b[0;34m=\u001b[0m\u001b[0mpolluter_tweets\u001b[0m\u001b[0;34m,\u001b[0m \u001b[0mdelimiter\u001b[0m\u001b[0;34m=\u001b[0m\u001b[0;34m\"\\t\"\u001b[0m\u001b[0;34m,\u001b[0m \u001b[0mdtype\u001b[0m\u001b[0;34m=\u001b[0m\u001b[0mstr\u001b[0m\u001b[0;34m,\u001b[0m \u001b[0mcomments\u001b[0m\u001b[0;34m=\u001b[0m\u001b[0mNone\u001b[0m\u001b[0;34m,\u001b[0m \u001b[0musecols\u001b[0m\u001b[0;34m=\u001b[0m\u001b[0;36m3\u001b[0m\u001b[0;34m)\u001b[0m\u001b[0;34m\u001b[0m\u001b[0m\n\u001b[0m",
      "\u001b[0;32m/home/alexandra/venv_lda2vec/local/lib/python2.7/site-packages/numpy/lib/npyio.pyc\u001b[0m in \u001b[0;36mloadtxt\u001b[0;34m(fname, dtype, comments, delimiter, converters, skiprows, usecols, unpack, ndmin)\u001b[0m\n\u001b[1;32m    976\u001b[0m                 \u001b[0;32mcontinue\u001b[0m\u001b[0;34m\u001b[0m\u001b[0m\n\u001b[1;32m    977\u001b[0m             \u001b[0;32mif\u001b[0m \u001b[0musecols\u001b[0m\u001b[0;34m:\u001b[0m\u001b[0;34m\u001b[0m\u001b[0m\n\u001b[0;32m--> 978\u001b[0;31m                 \u001b[0mvals\u001b[0m \u001b[0;34m=\u001b[0m \u001b[0;34m[\u001b[0m\u001b[0mvals\u001b[0m\u001b[0;34m[\u001b[0m\u001b[0mi\u001b[0m\u001b[0;34m]\u001b[0m \u001b[0;32mfor\u001b[0m \u001b[0mi\u001b[0m \u001b[0;32min\u001b[0m \u001b[0musecols\u001b[0m\u001b[0;34m]\u001b[0m\u001b[0;34m\u001b[0m\u001b[0m\n\u001b[0m\u001b[1;32m    979\u001b[0m             \u001b[0;32mif\u001b[0m \u001b[0mlen\u001b[0m\u001b[0;34m(\u001b[0m\u001b[0mvals\u001b[0m\u001b[0;34m)\u001b[0m \u001b[0;34m!=\u001b[0m \u001b[0mN\u001b[0m\u001b[0;34m:\u001b[0m\u001b[0;34m\u001b[0m\u001b[0m\n\u001b[1;32m    980\u001b[0m                 \u001b[0mline_num\u001b[0m \u001b[0;34m=\u001b[0m \u001b[0mi\u001b[0m \u001b[0;34m+\u001b[0m \u001b[0mskiprows\u001b[0m \u001b[0;34m+\u001b[0m \u001b[0;36m1\u001b[0m\u001b[0;34m\u001b[0m\u001b[0m\n",
      "\u001b[0;31mIndexError\u001b[0m: list index out of range"
     ]
    }
   ],
   "source": [
    "polluter_tweets = \"../lda2vec/tweets_shuffled_no_links.csv\"\n",
    "tweets = np.loadtxt(fname=polluter_tweets, delimiter=\"\\t\", dtype=str, comments=None, usecols=3)"
   ]
  },
  {
   "cell_type": "code",
   "execution_count": 102,
   "metadata": {},
   "outputs": [
    {
     "data": {
      "text/plain": [
       "array([ '@allisajacobs apparently not all dark chocolate is healthy. have you seen this? - http://bit.ly/bkn57b',\n",
       "       'More (Steve) Jobs, Jobs, Jobs, Jobs: ... but lasting good jobs that keep America on the cutting edge. The best way... http://bit.ly/4Smt7v',\n",
       "       'Ajab nahare topi zadim, nafari 2ta qezel ba mokhalafat va kolli halva! Alan ham ke deraz keshidim, badesh mirim to bagh!',\n",
       "       ..., 'Free Book: 101 Romantic Ideas! http://hijw.com/romance',\n",
       "       \"I'm broadcasting my live Stickam stream at http://stickam.com/shannongallup started: Fri, 16:02 PST\",\n",
       "       'Went to Allsop property auction today.  Brilliant! There are real bargins to be had all over the UK.'], \n",
       "      dtype='|S420')"
      ]
     },
     "execution_count": 102,
     "metadata": {},
     "output_type": "execute_result"
    }
   ],
   "source": [
    "tweets"
   ]
  },
  {
   "cell_type": "code",
   "execution_count": 60,
   "metadata": {},
   "outputs": [],
   "source": [
    "ids = []\n",
    "tweets_per_id = []\n",
    "num = 0\n",
    "for name, group in groupedbyuser_tweets:\n",
    "    ids.append(num)\n",
    "    tweets_per_id.append(len(group))\n",
    "    num+=1"
   ]
  },
  {
   "cell_type": "code",
   "execution_count": 61,
   "metadata": {},
   "outputs": [
    {
     "data": {
      "image/png": "[encoded data removed]",
      "text/plain": [
       "<matplotlib.figure.Figure at 0x7fb65b2709d0>"
      ]
     },
     "metadata": {},
     "output_type": "display_data"
    }
   ],
   "source": [
    "import matplotlib.pyplot as plt\n",
    "plt.scatter(ids,tweets_per_id)\n",
    "\n",
    "plt.show()"
   ]
  },
  {
   "cell_type": "code",
   "execution_count": 118,
   "metadata": {},
   "outputs": [],
   "source": [
    "from gensim.models.keyedvectors import KeyedVectors\n",
    "\n",
    "id = \"../data/honeypot_clean_model_revised\"\n",
    "mymodel = KeyedVectors.load(id)\n",
    "n_dim = mymodel.wv.syn0.shape[1]"
   ]
  },
  {
   "cell_type": "code",
   "execution_count": 127,
   "metadata": {},
   "outputs": [
    {
     "data": {
      "text/plain": [
       "[(u'healthcare', 0.7320735454559326),\n",
       " (u'nutrition', 0.6838242411613464),\n",
       " (u'medical', 0.6609572172164917),\n",
       " (u'@onlinenursing', 0.6549701690673828),\n",
       " (u'yuuuuuks', 0.6467499136924744),\n",
       " (u'patients', 0.6411877870559692),\n",
       " (u'lifenews.comhealth', 0.635002613067627),\n",
       " (u'chiropractic', 0.6319599151611328),\n",
       " (u'benefits', 0.6297504901885986),\n",
       " (u'healt', 0.6294679641723633)]"
      ]
     },
     "execution_count": 127,
     "metadata": {},
     "output_type": "execute_result"
    }
   ],
   "source": [
    "mymodel.wv.most_similar(\"health\")"
   ]
  },
  {
   "cell_type": "code",
   "execution_count": null,
   "metadata": {
    "collapsed": true
   },
   "outputs": [],
   "source": []
  }
 ],
 "metadata": {
  "kernelspec": {
   "display_name": "venv_lda2vec",
   "language": "python",
   "name": "venv_lda2vec"
  },
  "language_info": {
   "codemirror_mode": {
    "name": "ipython",
    "version": 2
   },
   "file_extension": ".py",
   "mimetype": "text/x-python",
   "name": "python",
   "nbconvert_exporter": "python",
   "pygments_lexer": "ipython2",
   "version": "2.7.12"
  }
 },
 "nbformat": 4,
 "nbformat_minor": 2
}
